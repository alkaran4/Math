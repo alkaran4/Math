{
 "cells": [
  {
   "cell_type": "markdown",
   "id": "32502dba",
   "metadata": {},
   "source": [
    "# Теория множеств. Математическая логика"
   ]
  },
  {
   "cell_type": "markdown",
   "id": "88bd899b",
   "metadata": {},
   "source": [
    "#### 1. Как соотносятся понятия “множество” и “последовательность”? (в ответе использовать слова типа: часть, целое, общее, частное, родитель, дочерний субъект и т. д.)"
   ]
  },
  {
   "cell_type": "markdown",
   "id": "af7f28d8",
   "metadata": {},
   "source": [
    "Последовательность представляет набор неслучайных элементов множества, для которого можно указать \"алгоритм\" отбора. Например, для четных/нечентных чисел, для чисел, делящихся на 5 и тд."
   ]
  },
  {
   "cell_type": "markdown",
   "id": "3d97f294",
   "metadata": {},
   "source": [
    "#### 2. Прочитать высказывания математической логики, построить их отрицания и установить истинность"
   ]
  },
  {
   "cell_type": "markdown",
   "id": "10caa2a5",
   "metadata": {},
   "source": [
    "1. Для любого y, лежащего на интервале от 0 до 1 функция sgn(y) = 1. Ложь, так как сигнум от 0 равен 0.\n",
    "2. Для любого n из множества натуральных чисел больше двух, существует комбинация натуральных чисел x y z, для которой справедливо равенство: x^n = y^n + z^n. \n",
    "Справедливо для x y z равным 0.\n",
    "3. Для любого х из множества действительных чисел существует такое множество Х из того же множества действительных чисел, где каждый элемент которого больше х. Истина.\n",
    "4. Для любого x из множества комплексных чисел нет ни одного y из множества комплексных чисел, когда x больше y или y больше х.\n",
    "Истина, тк комплексные числа нельзя сравнивать на больше и меньше.\n",
    "5. Для любого y, лежащего в интервале от 0 до pi/2 включительно есть хотя бы один е > 0, при котором siny < sin(y+е). \n",
    "Ложь, тк при y = pi/2 sin принимает максимальное значение, равное 1 и если прибавить бесконечно малое e, то sin будет меньше 1. А если прибавить e = 3pi/2, то sin y = sin(y+e).\n",
    "6. Для любого y на интервале от 0 до pi невключительно, есть хотя бы один е > 0, при котором cosy > cos(y+е).\n",
    "Истина\n",
    "7. Есть хотя бы один х, который не принадлежит ни к натуральным, ни к целым, ни к рациональным, ни к действителным, ни к комплексным числам.\n",
    "Истина"
   ]
  },
  {
   "cell_type": "markdown",
   "id": "27fc5a73",
   "metadata": {},
   "source": [
    "## Множество "
   ]
  },
  {
   "cell_type": "markdown",
   "id": "ad3b9a95",
   "metadata": {},
   "source": [
    "#### Даны три множества a,b и с. Необходимо выполнить все изученные виды бинарных операций над всеми комбинациями множеств."
   ]
  },
  {
   "cell_type": "code",
   "execution_count": 14,
   "id": "014be332",
   "metadata": {},
   "outputs": [],
   "source": [
    "A = {1, 2, 3, 4, 5, 6}\n",
    "B = {5, 6, 7, 8, 9, 10}\n",
    "C = {1, 2, 5, 6, 8, 12}"
   ]
  },
  {
   "cell_type": "markdown",
   "id": "54bf5419",
   "metadata": {},
   "source": [
    "Объединение множеств можно проделать с помощью оператора \"|\" или функция A.union(B). Результат - все, что входит хотя бы раз в каждое множество. "
   ]
  },
  {
   "cell_type": "code",
   "execution_count": 15,
   "id": "3a075027",
   "metadata": {},
   "outputs": [
    {
     "name": "stdout",
     "output_type": "stream",
     "text": [
      "{1, 2, 3, 4, 5, 6, 7, 8, 9, 10, 12}\n"
     ]
    }
   ],
   "source": [
    "print(A | B | C)"
   ]
  },
  {
   "cell_type": "markdown",
   "id": "87749301",
   "metadata": {},
   "source": [
    "Пересечение с помощью оператора \"&\" или функция A.intersection(B). Результат - те значения, которые есть в каждом множестве"
   ]
  },
  {
   "cell_type": "code",
   "execution_count": 17,
   "id": "d386babb",
   "metadata": {},
   "outputs": [
    {
     "name": "stdout",
     "output_type": "stream",
     "text": [
      "{5, 6}\n"
     ]
    }
   ],
   "source": [
    "print(A & B & C)"
   ]
  },
  {
   "cell_type": "code",
   "execution_count": 19,
   "id": "2b3856c4",
   "metadata": {},
   "outputs": [
    {
     "name": "stdout",
     "output_type": "stream",
     "text": [
      "{1, 2, 3, 4, 5, 6, 8}\n"
     ]
    }
   ],
   "source": [
    "print (A | B & C)"
   ]
  },
  {
   "cell_type": "code",
   "execution_count": 26,
   "id": "e65f3d6a",
   "metadata": {},
   "outputs": [
    {
     "name": "stdout",
     "output_type": "stream",
     "text": [
      "{1, 2, 5, 6, 8}\n"
     ]
    }
   ],
   "source": [
    "print((A | B) & C)"
   ]
  },
  {
   "cell_type": "code",
   "execution_count": 29,
   "id": "c2a61d70",
   "metadata": {},
   "outputs": [
    {
     "name": "stdout",
     "output_type": "stream",
     "text": [
      "{1, 2, 3, 4, 5, 6, 8}\n"
     ]
    }
   ],
   "source": [
    "print (A | (B & C))"
   ]
  },
  {
   "cell_type": "code",
   "execution_count": 24,
   "id": "c416a180",
   "metadata": {},
   "outputs": [
    {
     "name": "stdout",
     "output_type": "stream",
     "text": [
      "{1, 2, 3, 4, 5, 6, 8}\n"
     ]
    }
   ],
   "source": [
    "print(A | C & B)"
   ]
  },
  {
   "cell_type": "code",
   "execution_count": 25,
   "id": "cc4c57ca",
   "metadata": {},
   "outputs": [
    {
     "name": "stdout",
     "output_type": "stream",
     "text": [
      "{1, 2, 5, 6, 7, 8, 9, 10}\n"
     ]
    }
   ],
   "source": [
    "print(B | C & A)"
   ]
  },
  {
   "cell_type": "code",
   "execution_count": 27,
   "id": "cff68f02",
   "metadata": {},
   "outputs": [
    {
     "name": "stdout",
     "output_type": "stream",
     "text": [
      "{1, 2, 5, 6}\n"
     ]
    }
   ],
   "source": [
    "print((B | C) & A)"
   ]
  },
  {
   "cell_type": "code",
   "execution_count": 23,
   "id": "8592aba8",
   "metadata": {},
   "outputs": [
    {
     "name": "stdout",
     "output_type": "stream",
     "text": [
      "{1, 2, 5, 6, 8, 12}\n"
     ]
    }
   ],
   "source": [
    "print(A & B | C)"
   ]
  },
  {
   "cell_type": "code",
   "execution_count": 21,
   "id": "afaab7e0",
   "metadata": {},
   "outputs": [
    {
     "name": "stdout",
     "output_type": "stream",
     "text": [
      "{1, 2, 3, 4, 5, 6, 8}\n"
     ]
    }
   ],
   "source": [
    "print(A | C & B)"
   ]
  },
  {
   "cell_type": "markdown",
   "id": "96fc1aa8",
   "metadata": {},
   "source": [
    "Разность с помощью оператора \"-\" или функция difference(). Результатом является все, что есть в вычитаемом."
   ]
  },
  {
   "cell_type": "code",
   "execution_count": 30,
   "id": "474b0407",
   "metadata": {},
   "outputs": [
    {
     "name": "stdout",
     "output_type": "stream",
     "text": [
      "{3, 4}\n"
     ]
    }
   ],
   "source": [
    "print(A - B - C)"
   ]
  },
  {
   "cell_type": "code",
   "execution_count": 31,
   "id": "302e9b47",
   "metadata": {},
   "outputs": [
    {
     "name": "stdout",
     "output_type": "stream",
     "text": [
      "{1, 2, 3, 4, 5, 6, 7, 9, 10}\n"
     ]
    }
   ],
   "source": [
    "print(A | B - C)"
   ]
  },
  {
   "cell_type": "code",
   "execution_count": 32,
   "id": "e1084721",
   "metadata": {},
   "outputs": [
    {
     "name": "stdout",
     "output_type": "stream",
     "text": [
      "{1, 2, 3, 4, 5, 6, 12}\n"
     ]
    }
   ],
   "source": [
    "print(A | C - B)"
   ]
  },
  {
   "cell_type": "code",
   "execution_count": 33,
   "id": "e3390bdb",
   "metadata": {},
   "outputs": [
    {
     "name": "stdout",
     "output_type": "stream",
     "text": [
      "set()\n"
     ]
    }
   ],
   "source": [
    "print(A & B - C)"
   ]
  },
  {
   "cell_type": "markdown",
   "id": "87c13f69",
   "metadata": {},
   "source": [
    "Симметричную разность с помощью оператора \"^\" или функция symmetric_difference(). Результат - все непересекаемые значения."
   ]
  },
  {
   "cell_type": "code",
   "execution_count": 34,
   "id": "609842fb",
   "metadata": {},
   "outputs": [
    {
     "name": "stdout",
     "output_type": "stream",
     "text": [
      "{3, 4, 5, 6, 7, 9, 10, 12}\n"
     ]
    }
   ],
   "source": [
    "print(A ^ B ^ C)"
   ]
  },
  {
   "cell_type": "code",
   "execution_count": 35,
   "id": "428e2773",
   "metadata": {},
   "outputs": [
    {
     "name": "stdout",
     "output_type": "stream",
     "text": [
      "{1, 2, 3, 4, 5, 6, 7, 9, 10, 12}\n"
     ]
    }
   ],
   "source": [
    "print(A | B ^ C)"
   ]
  },
  {
   "cell_type": "code",
   "execution_count": 37,
   "id": "69d10342",
   "metadata": {},
   "outputs": [
    {
     "name": "stdout",
     "output_type": "stream",
     "text": [
      "{1, 2, 8, 12}\n"
     ]
    }
   ],
   "source": [
    "print(A & B ^ C)"
   ]
  }
 ],
 "metadata": {
  "kernelspec": {
   "display_name": "Python 3 (ipykernel)",
   "language": "python",
   "name": "python3"
  },
  "language_info": {
   "codemirror_mode": {
    "name": "ipython",
    "version": 3
   },
   "file_extension": ".py",
   "mimetype": "text/x-python",
   "name": "python",
   "nbconvert_exporter": "python",
   "pygments_lexer": "ipython3",
   "version": "3.9.4"
  }
 },
 "nbformat": 4,
 "nbformat_minor": 5
}
